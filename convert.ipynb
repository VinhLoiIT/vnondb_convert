{
 "cells": [
  {
   "cell_type": "code",
   "execution_count": 26,
   "metadata": {},
   "outputs": [],
   "source": [
    "import os\n",
    "import numpy as np\n",
    "import matplotlib.pyplot as plt\n",
    "import xml.etree.ElementTree as ET\n",
    "\n",
    "import pandas as pd\n",
    "\n",
    "from tqdm import trange, tqdm"
   ]
  },
  {
   "cell_type": "code",
   "execution_count": 27,
   "metadata": {},
   "outputs": [],
   "source": [
    "# config path\n",
    "level = 'word' # 'word', 'line', 'paragraph'\n",
    "icfhr_datasplit_dir = './VNOnDB_ICFHR2018_dataSplit'\n",
    "inkml_dir = f'./InkData_{level}'\n",
    "\n",
    "# output\n",
    "out_label_train = f'./train_{level}.csv'\n",
    "out_label_validation = f'./validation_{level}.csv'\n",
    "out_label_test = f'./test_{level}.csv'"
   ]
  },
  {
   "cell_type": "code",
   "execution_count": 28,
   "metadata": {},
   "outputs": [],
   "source": [
    "train_set = os.path.join(icfhr_datasplit_dir, 'train_set.txt')\n",
    "val_set = os.path.join(icfhr_datasplit_dir, 'validation_set.txt')\n",
    "test_set = os.path.join(icfhr_datasplit_dir, 'test_set.txt')"
   ]
  },
  {
   "cell_type": "code",
   "execution_count": 29,
   "metadata": {},
   "outputs": [
    {
     "name": "stdout",
     "output_type": "stream",
     "text": [
      "train_ink_files: 153\n",
      "val_ink_files: 38\n",
      "test_ink_files: 64\n"
     ]
    }
   ],
   "source": [
    "with open(train_set) as f:\n",
    "    train_ink_files = [line.rstrip() for line in f]\n",
    "with open(val_set) as f:\n",
    "    val_ink_files = [line.rstrip() for line in f]\n",
    "with open(test_set) as f:\n",
    "    test_ink_files = [line.rstrip() for line in f]\n",
    "\n",
    "print('train_ink_files:', len(train_ink_files))\n",
    "print('val_ink_files:', len(val_ink_files))\n",
    "print('test_ink_files:', len(test_ink_files))"
   ]
  },
  {
   "cell_type": "code",
   "execution_count": 30,
   "metadata": {},
   "outputs": [],
   "source": [
    "train_ink_files = [os.path.join(inkml_dir, f) for f in train_ink_files]\n",
    "val_ink_files = [os.path.join(inkml_dir, f) for f in val_ink_files]\n",
    "test_ink_files = [os.path.join(inkml_dir, f) for f in test_ink_files]"
   ]
  },
  {
   "cell_type": "code",
   "execution_count": 31,
   "metadata": {},
   "outputs": [],
   "source": [
    "def make_image_file(coord_groups, output_path: str, line_width=2, dpi=300):\n",
    "    figure = plt.figure(dpi=dpi)\n",
    "    plt.gca().set_aspect('equal', adjustable='box')\n",
    "    plt.gca().invert_yaxis()\n",
    "    plt.axis('off')\n",
    "\n",
    "    for group in coord_groups:\n",
    "        data = np.array(group)\n",
    "        x, y = zip(*data)\n",
    "        plt.plot(x, y, linewidth=line_width, c='black')\n",
    "    figure.savefig(output_path, bbox_inches='tight')\n",
    "    plt.close()"
   ]
  },
  {
   "cell_type": "code",
   "execution_count": 32,
   "metadata": {},
   "outputs": [],
   "source": [
    "def convert(ink_files, out_img_dir, out_label_path, line_width=2, dpi=300):\n",
    "    if not os.path.exists(out_img_dir):\n",
    "        os.mkdir(out_img_dir)\n",
    "        \n",
    "    annotations = pd.DataFrame(columns=['id', 'label'])\n",
    "    total_files = len(ink_files)\n",
    "    for _, inkml_file in zip(trange(len(ink_files), desc='Progress'), ink_files):\n",
    "        tree = ET.parse(inkml_file)\n",
    "        root = tree.getroot()\n",
    "\n",
    "        for sample in root.findall('traceGroup'):\n",
    "            sample_id = os.path.splitext(os.path.basename(inkml_file))[0] + '_' + sample.get('id')\n",
    "            sample_label = sample.find('.//Tg_Truth').text\n",
    "            annotations = annotations.append({'id': sample_id, 'label': sample_label}, ignore_index=True)\n",
    "\n",
    "            coord_groups = []\n",
    "            for trace_tag in sample.findall('trace'):\n",
    "                coord_group = []\n",
    "                for coord_text in trace_tag.text.split(','):\n",
    "                    if coord_text == '':\n",
    "                        continue\n",
    "                    coords = coord_text.split(' ')\n",
    "                    coords = np.array([int(coord) for coord in coords if coord != ''])\n",
    "                    assert len(coords) == 2\n",
    "                    coord_group.append(coords)\n",
    "                coord_groups.append(coord_group)\n",
    "            make_image_file(coord_groups, os.path.join(out_img_dir, sample_id) + '.png', line_width, dpi)\n",
    "    annotations.to_csv(out_label_path, sep='\\t')"
   ]
  },
  {
   "cell_type": "code",
   "execution_count": 33,
   "metadata": {},
   "outputs": [],
   "source": [
    "def convert_label_only(ink_files, out_label_path):\n",
    "    annotations = pd.DataFrame(columns=['id', 'label'])\n",
    "    total_files = len(ink_files)\n",
    "    for _, inkml_file in zip(trange(len(ink_files), desc='Progress'), ink_files):\n",
    "        tree = ET.parse(inkml_file)\n",
    "        root = tree.getroot()\n",
    "\n",
    "        for sample in root.findall('traceGroup'):\n",
    "            sample_id = os.path.splitext(os.path.basename(inkml_file))[0] + '_' + sample.get('id')\n",
    "            sample_label = sample.find('.//Tg_Truth').text\n",
    "            annotations = annotations.append({'id': sample_id, 'label': sample_label}, ignore_index=True)\n",
    "\n",
    "    annotations.to_csv(out_label_path, sep='\\t')"
   ]
  },
  {
   "cell_type": "code",
   "execution_count": 34,
   "metadata": {},
   "outputs": [
    {
     "name": "stderr",
     "output_type": "stream",
     "text": [
      "Progress: 100%|██████████| 153/153 [06:34<00:00,  2.58s/it]\n",
      "Progress: 100%|██████████| 38/38 [00:55<00:00,  1.46s/it]\n",
      "Progress: 100%|██████████| 64/64 [01:24<00:00,  1.33s/it]\n"
     ]
    }
   ],
   "source": [
    "convert_label_only(train_ink_files, out_label_train)\n",
    "convert_label_only(val_ink_files, out_label_validation)\n",
    "convert_label_only(test_ink_files, out_label_test)"
   ]
  },
  {
   "cell_type": "code",
   "execution_count": null,
   "metadata": {},
   "outputs": [],
   "source": []
  }
 ],
 "metadata": {
  "kernelspec": {
   "display_name": "Python 3",
   "language": "python",
   "name": "python3"
  },
  "language_info": {
   "codemirror_mode": {
    "name": "ipython",
    "version": 3
   },
   "file_extension": ".py",
   "mimetype": "text/x-python",
   "name": "python",
   "nbconvert_exporter": "python",
   "pygments_lexer": "ipython3",
   "version": "3.6.9"
  }
 },
 "nbformat": 4,
 "nbformat_minor": 4
}
